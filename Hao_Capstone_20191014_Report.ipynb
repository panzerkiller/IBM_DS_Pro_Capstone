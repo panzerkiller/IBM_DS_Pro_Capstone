{
 "cells": [
  {
   "cell_type": "markdown",
   "metadata": {},
   "source": [
    "# *Investigation of Houston City Neighborhoods*"
   ]
  },
  {
   "cell_type": "markdown",
   "metadata": {},
   "source": [
    "## **1. Introduction**"
   ]
  },
  {
   "cell_type": "markdown",
   "metadata": {},
   "source": [
    "#### **1.1 Background**"
   ]
  },
  {
   "cell_type": "markdown",
   "metadata": {},
   "source": [
    "The city of Houston is one of the largest cities in Texas. It is the fourth most populous solo city in the United States. Houston is famous for its economy in broad industries such as energy, manufacturing, aeronautics, and medical. \n",
    "\n",
    "Houston is the largest city in the United States by total area. It has many neighborhoods. Houson city has been described as the most racially and ethnically diverse major metropolis in the U.S.A. It is home of many cultural institutions, restaurants and millions of people from all over the world. "
   ]
  },
  {
   "cell_type": "markdown",
   "metadata": {},
   "source": [
    "#### **1.2 Business Problem**"
   ]
  },
  {
   "cell_type": "markdown",
   "metadata": {},
   "source": [
    "Houston is a big city and heavily diversified. Most people don't know the features of the neighborhoods outside their living/working area. It will be interesting to investigate the neighborhoods, hence people can quickly find places to eat, shop, entertaiment, etc. This project is going to investigate the venues within neighborhoods of Houston city and make a thorough report."
   ]
  },
  {
   "cell_type": "markdown",
   "metadata": {},
   "source": [
    "#### **1.3 Interest**"
   ]
  },
  {
   "cell_type": "markdown",
   "metadata": {},
   "source": [
    "Tens of thousands of people visit Houston over the world each year. Knowing more about the city before arrival is always helpful. This investigation will be very handy for visitors to get familiar with the city and plan activities. Besides that, Houston residents also benefit from the results and can enjoy more about this great city."
   ]
  },
  {
   "cell_type": "markdown",
   "metadata": {},
   "source": [
    "## **2. Data Acquisition**"
   ]
  },
  {
   "cell_type": "markdown",
   "metadata": {},
   "source": [
    "#### **2.1 Data Sources**"
   ]
  },
  {
   "cell_type": "markdown",
   "metadata": {},
   "source": [
    "This project is divided into two parts: 1. data acquisition; 2. data process and analysis. We will first download the neighborhoods information from the Wikipedia page. Next use the Geocoder Python package to get the latitude and the longitude coordinates of each neighborhood. Then use the development API to access Foursquare database to explore the neighborhoods. Finally we will cluster the neighborhoods into certain groups and plot them on maps via folium tool.\n",
    "\n",
    "The data acquisition steps are:\n",
    "1. Get the neighborhood names from the Wikipedia page of Houston.\n",
    "2. Use the Geocoder Python package to get the latitude and the longitude coordinates of each neighborhood.\n",
    "3. Use the Foursquare to collect the venues of the neighborhoods.\n",
    "\n",
    "The data process and analysis steps are:\n",
    "1. Clean the data and prepare for clustering\n",
    "2. Check the venues and plot on the map"
   ]
  },
  {
   "cell_type": "markdown",
   "metadata": {},
   "source": [
    "#### **2.2 Raw Data**"
   ]
  },
  {
   "cell_type": "markdown",
   "metadata": {},
   "source": [
    "Get the Houston's neighborhood information from Wikipedia page. <br>\n",
    "https://en.wikipedia.org/wiki/List_of_Houston_neighborhoods\n"
   ]
  },
  {
   "cell_type": "markdown",
   "metadata": {},
   "source": [
    "## **3. Methodology**"
   ]
  },
  {
   "cell_type": "markdown",
   "metadata": {},
   "source": [
    "The table from the Wikipedia page needs a lot of cleaning work prior of use. First, we perform some basic analysis to the table, drop useless columns and rename certain clumns for easy understanding.\n",
    "\n",
    "When looking at the table more carefully, the neighborhood name is not always regular. For example, some of these are A/B pattern. Such pattern may cause problem when getting the Latitude/Longitude information from the Geocode. In this case, it will be splitted into 2 more new columns for A & B. There are some neighborhoods have parenthesis, and it may cause similar issues. This will also be taken care of using the lambda function. Once all the columns are created, a loop with priority will be set to get the geocode information. \n",
    "\n",
    "Once the longitude and lengitude information are successfully achieved, a good check will be performed using the Folium to create maps showing the neighborhoods. This will present the neighborhoods of the Houston city to confirm the data were collected correctly.\n",
    "\n",
    "The next step will use the Foursquare credential to get the venues information for all the neighborhoods. Foursquare can help us to get the venues with given latitude/longitude, the output is json format. We can flat that format to get data frame, grab the key information we need, and prepare a new data frame.\n",
    "\n",
    "After we have the venues information for all the neighborhoods, we will test K-Means method to group the data. Customer segmentation is the practice of partitioning\n",
    "a customer base into groups of individuals that have similar characteristics. In our case, it is unsupervised. And K-means can group data based on the similarity of neighborhoods to each other."
   ]
  },
  {
   "cell_type": "markdown",
   "metadata": {},
   "source": [
    "#### **3.1 Exploratory Data Analysis (EDA)**"
   ]
  },
  {
   "cell_type": "markdown",
   "metadata": {},
   "source": [
    "First perform some basic analysis to the table.\n",
    "Next let's drop the unnecessary columns, and rename the columns for easy understanding.\n",
    "Then save a copy of the table and start to work on data cleaning.\n",
    "\n",
    "Looking at the table, there are some cleaning work needed, otherwise it will bring problems when loading the geocode information.\n",
    "1. There are some A/B patterns, which will be split into 2 columns for A & B each.\n",
    "2. There are some values have parenthesis() with values, which will also be split into columns.\n",
    "\n",
    "In addition, there are a few neighborhoods need minor editing in order to get the geocode information."
   ]
  },
  {
   "cell_type": "markdown",
   "metadata": {},
   "source": [
    "#### **3.2 Data Collection of Latitude/Longitude**"
   ]
  },
  {
   "cell_type": "markdown",
   "metadata": {},
   "source": [
    "we will use a for loop to use the location information from Neighborhood and splitted names, each by each, and then collect the latitude/longitude information from the geocode. We also output those into lists.\n",
    "\n",
    "Next let's add these latitude/longitude information to the table, clean that, and review the table. To confirm, let's check if there is any NaN in the table.\n"
   ]
  },
  {
   "cell_type": "markdown",
   "metadata": {},
   "source": [
    "#### **3.3 Houston Map Using Latitude/Longitude Collected**"
   ]
  },
  {
   "cell_type": "markdown",
   "metadata": {},
   "source": [
    "We can use Folium to plot the Houston map using the latitude/longitude information collected. "
   ]
  },
  {
   "cell_type": "markdown",
   "metadata": {},
   "source": [
    "#### **3.4 Define Foursquare Credentials and Version**"
   ]
  },
  {
   "cell_type": "markdown",
   "metadata": {},
   "source": [
    "As a test, let's check the top 100 venues that are in a downtown neighborhood within a radius of 500 meters. From the Foursquare lab in the previous module, we know that all the information is in the items key. Before we proceed, let's borrow the get_category_type function from the Foursquare lab.\n"
   ]
  },
  {
   "cell_type": "markdown",
   "metadata": {},
   "source": [
    "#### **3.5 Using Foursquare to Investigate All the neighborhoods**"
   ]
  },
  {
   "cell_type": "markdown",
   "metadata": {},
   "source": [
    "We can investigate the venues for all the neighborhoods using Foursquare."
   ]
  },
  {
   "cell_type": "markdown",
   "metadata": {},
   "source": [
    "#### **3.6 Houston Neighborhoods Analysis Using K-Means Method**"
   ]
  },
  {
   "cell_type": "markdown",
   "metadata": {},
   "source": [
    "From the table, let's group by taking the means of the frequency of occurrence of each category. For each neighborhood, let's check the top 5 most common venues. Now let's create the new dataframe and display the top 5 venues for each neighborhood. With the data we created, we can sort the neighborhoods into 6 groups. \n",
    "\n",
    "We will test K-Means method to group the data. Customer segmentation is the practice of partitioning a customer base into groups of individuals that have similar characteristics. In our case, it is unsupervised. And K-means can group data based on the similarity of neighborhoods to each other."
   ]
  },
  {
   "cell_type": "markdown",
   "metadata": {},
   "source": [
    "## **4. Results**"
   ]
  },
  {
   "cell_type": "markdown",
   "metadata": {},
   "source": [
    "Now we can visualize the neighborhoods groups of Houston. We will first make a comparison of the Houston map to see the distribution of the venues. From the analysis we get 6 groups. And we will see the map of each group individually as well.\n",
    " 1. Houston Neighborhood Map <br>\n",
    " 2. Houston Clustered Neighborhood Map (All Clusters)\n",
    " 3. Individual Clustered Neighborhood Maps <br> \n",
    "\n",
    "\n",
    "From the visualization results, we will discuss the observation and recommendation to meet what people need. \n",
    " "
   ]
  },
  {
   "cell_type": "markdown",
   "metadata": {},
   "source": [
    "## **5. Discussion**"
   ]
  },
  {
   "cell_type": "markdown",
   "metadata": {},
   "source": [
    "Looking at the analysis results, we can see that distribution of the Houston neighborhoods is quite interesting. AS a big city, it clearly offers various venues for people to know, find and enjoy.\n",
    "\n",
    "In this case the neighborhoods are clustered into 6 groups. The number size of each group are:\n",
    "\n",
    "Group_0 - 11  \n",
    "Group_1 - 37  \n",
    "Group_2 - 7  \n",
    "Group_3 - 24  \n",
    "Group_4 - 2  \n",
    "Group_5 - 6  \n",
    "\n",
    "The biggest group has 37 venus, and it shows the wide spread of the restaurants. This makes good sense as Houston is a city with name for its diversity and good food. Due to weather conditions, Houston is not a place with a lot of travel sites. The second largest one has 24, and it shows the shopping is a popular activity. The third one has 11, which indicates the activities around the Banking. Considering it as the oil Capital city, one can imagine how busy the banks are. The fourth group shows the coffee and fast food. The fifth one which has a number as 6, shows the real life of Houstonians, they go to supermarkets, home furniture stores, etc. The smallest one, which only has a number 2, reflects the only popular visiting area of Houston, the Memorial park area. It has a big zoo, a good outdoor park, and museums nearby. This is the place people looking for relaxation with family.\n",
    "\n",
    "The clustering definitely can help people coming to Houston to have some ideas first. They probably won't bring kids to here for a long vacation as there is no Disney or Lego Land. For people who likes various food, they probably will have a good impression of the city. If that's a business trip, then it's perfect probably. For anyone who likes to shopping, Houston is also a good choice, it has everything from regular to luxury. Overall, people will find the part they like Houston, and the part Houston is missing.\n",
    "\n"
   ]
  },
  {
   "cell_type": "markdown",
   "metadata": {},
   "source": [
    "## **6. Conclusion**"
   ]
  },
  {
   "cell_type": "markdown",
   "metadata": {},
   "source": [
    "The project gives good results with useful information. As we know, everyday many people come to Houston over the world. Houston is so big and diversified. The visitors would want to know more about the city before they arrive. This result is very useful for them to get familiar with the city and plan for their trip. The local people can get benefits as well.\n",
    "\n",
    "Looking forward, this project have space to be further improved. One example is that it may combine with zip code along with the population information. As the project is based on the neighborhoods, and the neighborhoods varies in the size, population, etc. One example is that if we weighs the population factor, that probably will improve the analysis accuracy. \n"
   ]
  }
 ],
 "metadata": {
  "kernelspec": {
   "display_name": "Python 3",
   "language": "python",
   "name": "python3"
  },
  "language_info": {
   "codemirror_mode": {
    "name": "ipython",
    "version": 3
   },
   "file_extension": ".py",
   "mimetype": "text/x-python",
   "name": "python",
   "nbconvert_exporter": "python",
   "pygments_lexer": "ipython3",
   "version": "3.7.3"
  }
 },
 "nbformat": 4,
 "nbformat_minor": 4
}
