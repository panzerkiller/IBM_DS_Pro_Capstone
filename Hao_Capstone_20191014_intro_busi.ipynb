{
 "cells": [
  {
   "cell_type": "markdown",
   "metadata": {},
   "source": [
    "# *Investigation of Houston City Neighborhoods*"
   ]
  },
  {
   "cell_type": "markdown",
   "metadata": {},
   "source": [
    "## **1. Introduction**"
   ]
  },
  {
   "cell_type": "markdown",
   "metadata": {},
   "source": [
    "#### **1.1 Background**"
   ]
  },
  {
   "cell_type": "markdown",
   "metadata": {},
   "source": [
    "The city of Houston is one of the largest cities in Texas. It is the fourth most populous solo city in the United States. Houston is famous for its economy in broad industries such as energy, manufacturing, aeronautics, and medical. \n",
    "\n",
    "Houston is the largest city in the United States by total area. It has many neighborhoods. Houson city has been described as the most racially and ethnically diverse major metropolis in the U.S.A. It is home of many cultural institutions, restaurants and millions of people from all over the world. "
   ]
  },
  {
   "cell_type": "markdown",
   "metadata": {},
   "source": [
    "#### **1.2 Business Problem**"
   ]
  },
  {
   "cell_type": "markdown",
   "metadata": {},
   "source": [
    "Houston is a big city and heavily diversified. Most people don't know the features of the neighborhoods outside their living/working area. It will be interesting to investigate the neighborhoods, hence people can quickly find places to eat, shop, entertaiment, etc. This project is going to investigate the venues within neighborhoods of Houston city and make a thorough report."
   ]
  },
  {
   "cell_type": "markdown",
   "metadata": {},
   "source": [
    "#### **1.3 Interest**"
   ]
  },
  {
   "cell_type": "markdown",
   "metadata": {},
   "source": [
    "Tens of thousands of people visit Houston over the world each year. Knowing more about the city before arrival is always helpful. This investigation will be very handy for visitors to get familiar with the city and plan activities. Besides that, Houston residents also benefit from the results and can enjoy more about this great city."
   ]
  }
 ],
 "metadata": {
  "kernelspec": {
   "display_name": "Python 3",
   "language": "python",
   "name": "python3"
  },
  "language_info": {
   "codemirror_mode": {
    "name": "ipython",
    "version": 3
   },
   "file_extension": ".py",
   "mimetype": "text/x-python",
   "name": "python",
   "nbconvert_exporter": "python",
   "pygments_lexer": "ipython3",
   "version": "3.7.3"
  }
 },
 "nbformat": 4,
 "nbformat_minor": 4
}
